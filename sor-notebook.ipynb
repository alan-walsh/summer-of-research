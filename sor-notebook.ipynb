{
 "cells": [
  {
   "cell_type": "markdown",
   "id": "e581ce1a-9316-4c47-9a68-e9538645838c",
   "metadata": {},
   "source": [
    "# Summer of Research\n",
    "Simple notebook demo of binderized repo"
   ]
  },
  {
   "cell_type": "markdown",
   "id": "15a2d79a-2e6e-46c1-a323-784d2357d7b1",
   "metadata": {},
   "source": [
    " Check that the correct version of NumPy is present and working:"
   ]
  },
  {
   "cell_type": "code",
   "execution_count": null,
   "id": "ee97267f-05b8-4f1d-b06a-c1c9d2d5d584",
   "metadata": {},
   "outputs": [],
   "source": [
    "import numpy\n",
    "print(numpy.__version__)\n",
    "numpy.random.randn()"
   ]
  },
  {
   "cell_type": "markdown",
   "id": "3ed61a25-4717-4154-8ae2-bea5bbc28800",
   "metadata": {},
   "source": [
    "Now try to create a simple visualization of the downloaded data using Pandas and Matplotlib:"
   ]
  },
  {
   "cell_type": "code",
   "execution_count": null,
   "id": "3e59e738-bd1c-4456-825e-e972e44a486c",
   "metadata": {},
   "outputs": [],
   "source": [
    "%matplotlib inline\n",
    "\n",
    "import pandas\n",
    "\n",
    "data = pandas.read_csv(\"gapminder.csv\", index_col=\"country\")\n",
    "\n",
    "years = data.columns.str.strip(\"gdpPercap_\")  # Extract year from last 4 characters of each column name\n",
    "data.columns = years.astype(int)              # Convert year values to integers, saving results back to dataframe\n",
    "\n",
    "data.loc[\"Australia\"].plot()"
   ]
  }
 ],
 "metadata": {
  "kernelspec": {
   "display_name": "Python 3 (ipykernel)",
   "language": "python",
   "name": "python3"
  },
  "language_info": {
   "codemirror_mode": {
    "name": "ipython",
    "version": 3
   },
   "file_extension": ".py",
   "mimetype": "text/x-python",
   "name": "python",
   "nbconvert_exporter": "python",
   "pygments_lexer": "ipython3",
   "version": "3.7.12"
  }
 },
 "nbformat": 4,
 "nbformat_minor": 5
}
